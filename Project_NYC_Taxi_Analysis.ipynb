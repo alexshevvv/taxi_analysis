{
 "cells": [
  {
   "cell_type": "markdown",
   "metadata": {
    "id": "OGLSu7a7bV9t"
   },
   "source": [
    "\n",
    "# Проект: «Анализ данных о поездках на такси в Нью-Йорке»"
   ]
  },
  {
   "cell_type": "markdown",
   "metadata": {
    "id": "mU4lYwHVbV9y"
   },
   "source": [
    "## Шаг 1"
   ]
  },
  {
   "cell_type": "markdown",
   "metadata": {
    "id": "RAqIVtymbV9z"
   },
   "source": [
    "В этом проекте будет работа с реальным набором данных о поездках на такси в Нью-Йорке. Датасет включает в себя информацию о датах и времени поездок, метеорологических условиях в это время, а также о том, является день праздничным или выходным. Описание колонок:\n",
    "* pickup_dt – период с точностью до часа\n",
    "* pickup_month – месяц\n",
    "* borough – район Нью-Йорка, из которого был сделан заказ (5 районов + аэропорт)\n",
    "* pickups – число поездок за период (час)\n",
    "* hday – является ли день праздничным/выходным; Y — да,  N — нет\n",
    "* spd – скорость ветра в милях в час\n",
    "* vsb – видимость\n",
    "* temp – температура в градусах Фаренгейта\n",
    "* dewp – точка росы по Фаренгейту\n",
    "* slp – давление\n",
    "* pcp_01 – количество осадков за час\n",
    "* pcp_06 – количество осадков за 6 часов\n",
    "* pcp_24 – количество осадков за 24 часа\n",
    "* sd – глубина снега в дюймах\n",
    "\n",
    "Каждая строка в датасете — запись не об одной конкретной поездке, а о всех поездках, сделанных за определенный час из того или иного района Нью-Йорка, и о том, какие были показатели погоды в этот час.  \n",
    "\n",
    "Задача — применить навыки работы с библиотекой pandas для анализа и обработки данных. Полученные знания после реализации проекта: умения загружать данные, проверять их структуру, обрабатывать и анализировать, используя различные методы и функции pandas.\n",
    "Конечная цель — не только успешно выполнить все задачи, но и получить ценные инсайты из анализируемого датасета."
   ]
  },
  {
   "cell_type": "markdown",
   "metadata": {
    "id": "sVwlbjRLbV94"
   },
   "source": [
    "## Шаг 2"
   ]
  },
  {
   "cell_type": "markdown",
   "metadata": {
    "id": "7nIvwtg5bV94"
   },
   "source": [
    "Откроем датасет с данными о поезках такси в Нью-Йорке и сохраним его в переменную `taxi`."
   ]
  },
  {
   "cell_type": "code",
   "execution_count": 2,
   "metadata": {
    "id": "rtz16p-tbV95"
   },
   "outputs": [],
   "source": [
    "import pandas as pd"
   ]
  },
  {
   "cell_type": "code",
   "execution_count": 3,
   "metadata": {
    "id": "xoum-JXAbV95"
   },
   "outputs": [],
   "source": [
    "taxi = pd.read_csv(\"taxi_nyc.csv\")\n"
   ]
  },
  {
   "cell_type": "markdown",
   "metadata": {
    "id": "C6Bd0AFwbV95"
   },
   "source": [
    "Выведем первые строки датафрейма, чтобы посмотреть на данные и узнать индекс самой верхней строки"
   ]
  },
  {
   "cell_type": "code",
   "execution_count": 7,
   "metadata": {
    "id": "qRyDkv7PbV96"
   },
   "outputs": [
    {
     "data": {
      "text/html": [
       "<div>\n",
       "<style scoped>\n",
       "    .dataframe tbody tr th:only-of-type {\n",
       "        vertical-align: middle;\n",
       "    }\n",
       "\n",
       "    .dataframe tbody tr th {\n",
       "        vertical-align: top;\n",
       "    }\n",
       "\n",
       "    .dataframe thead th {\n",
       "        text-align: right;\n",
       "    }\n",
       "</style>\n",
       "<table border=\"1\" class=\"dataframe\">\n",
       "  <thead>\n",
       "    <tr style=\"text-align: right;\">\n",
       "      <th></th>\n",
       "      <th>pickup_dt</th>\n",
       "      <th>pickup_month</th>\n",
       "      <th>borough</th>\n",
       "      <th>pickups</th>\n",
       "      <th>hday</th>\n",
       "      <th>spd</th>\n",
       "      <th>vsb</th>\n",
       "      <th>temp</th>\n",
       "      <th>dewp</th>\n",
       "      <th>slp</th>\n",
       "      <th>pcp 01</th>\n",
       "      <th>pcp 06</th>\n",
       "      <th>pcp 24</th>\n",
       "      <th>sd</th>\n",
       "    </tr>\n",
       "  </thead>\n",
       "  <tbody>\n",
       "    <tr>\n",
       "      <th>0</th>\n",
       "      <td>2015-01-01 01:00:00</td>\n",
       "      <td>Jan</td>\n",
       "      <td>Bronx</td>\n",
       "      <td>152</td>\n",
       "      <td>Y</td>\n",
       "      <td>5.0</td>\n",
       "      <td>10.0</td>\n",
       "      <td>30.0</td>\n",
       "      <td>7.0</td>\n",
       "      <td>1023.5</td>\n",
       "      <td>0.0</td>\n",
       "      <td>0.0</td>\n",
       "      <td>0.0</td>\n",
       "      <td>0.0</td>\n",
       "    </tr>\n",
       "    <tr>\n",
       "      <th>1</th>\n",
       "      <td>2015-01-01 01:00:00</td>\n",
       "      <td>Jan</td>\n",
       "      <td>Brooklyn</td>\n",
       "      <td>1519</td>\n",
       "      <td>Y</td>\n",
       "      <td>5.0</td>\n",
       "      <td>10.0</td>\n",
       "      <td>30.0</td>\n",
       "      <td>7.0</td>\n",
       "      <td>1023.5</td>\n",
       "      <td>0.0</td>\n",
       "      <td>0.0</td>\n",
       "      <td>0.0</td>\n",
       "      <td>0.0</td>\n",
       "    </tr>\n",
       "    <tr>\n",
       "      <th>2</th>\n",
       "      <td>2015-01-01 01:00:00</td>\n",
       "      <td>Jan</td>\n",
       "      <td>EWR</td>\n",
       "      <td>0</td>\n",
       "      <td>Y</td>\n",
       "      <td>5.0</td>\n",
       "      <td>10.0</td>\n",
       "      <td>30.0</td>\n",
       "      <td>7.0</td>\n",
       "      <td>1023.5</td>\n",
       "      <td>0.0</td>\n",
       "      <td>0.0</td>\n",
       "      <td>0.0</td>\n",
       "      <td>0.0</td>\n",
       "    </tr>\n",
       "    <tr>\n",
       "      <th>3</th>\n",
       "      <td>2015-01-01 01:00:00</td>\n",
       "      <td>Jan</td>\n",
       "      <td>Manhattan</td>\n",
       "      <td>5258</td>\n",
       "      <td>Y</td>\n",
       "      <td>5.0</td>\n",
       "      <td>10.0</td>\n",
       "      <td>30.0</td>\n",
       "      <td>7.0</td>\n",
       "      <td>1023.5</td>\n",
       "      <td>0.0</td>\n",
       "      <td>0.0</td>\n",
       "      <td>0.0</td>\n",
       "      <td>0.0</td>\n",
       "    </tr>\n",
       "    <tr>\n",
       "      <th>4</th>\n",
       "      <td>2015-01-01 01:00:00</td>\n",
       "      <td>Jan</td>\n",
       "      <td>Queens</td>\n",
       "      <td>405</td>\n",
       "      <td>Y</td>\n",
       "      <td>5.0</td>\n",
       "      <td>10.0</td>\n",
       "      <td>30.0</td>\n",
       "      <td>7.0</td>\n",
       "      <td>1023.5</td>\n",
       "      <td>0.0</td>\n",
       "      <td>0.0</td>\n",
       "      <td>0.0</td>\n",
       "      <td>0.0</td>\n",
       "    </tr>\n",
       "  </tbody>\n",
       "</table>\n",
       "</div>"
      ],
      "text/plain": [
       "             pickup_dt pickup_month    borough  pickups hday  spd   vsb  temp  \\\n",
       "0  2015-01-01 01:00:00          Jan      Bronx      152    Y  5.0  10.0  30.0   \n",
       "1  2015-01-01 01:00:00          Jan   Brooklyn     1519    Y  5.0  10.0  30.0   \n",
       "2  2015-01-01 01:00:00          Jan        EWR        0    Y  5.0  10.0  30.0   \n",
       "3  2015-01-01 01:00:00          Jan  Manhattan     5258    Y  5.0  10.0  30.0   \n",
       "4  2015-01-01 01:00:00          Jan     Queens      405    Y  5.0  10.0  30.0   \n",
       "\n",
       "   dewp     slp  pcp 01  pcp 06  pcp 24   sd  \n",
       "0   7.0  1023.5     0.0     0.0     0.0  0.0  \n",
       "1   7.0  1023.5     0.0     0.0     0.0  0.0  \n",
       "2   7.0  1023.5     0.0     0.0     0.0  0.0  \n",
       "3   7.0  1023.5     0.0     0.0     0.0  0.0  \n",
       "4   7.0  1023.5     0.0     0.0     0.0  0.0  "
      ]
     },
     "execution_count": 7,
     "metadata": {},
     "output_type": "execute_result"
    }
   ],
   "source": [
    "taxi.head()\n",
    "\n"
   ]
  },
  {
   "cell_type": "markdown",
   "metadata": {
    "id": "XHzqGycDbV98"
   },
   "source": [
    "## Шаг 4"
   ]
  },
  {
   "cell_type": "markdown",
   "metadata": {
    "id": "3ieDZDplbV98"
   },
   "source": [
    "После загрузки данных полезно получить базовое представление об их структуре и содержании. Для этого сначала **узнаем количество строк и столбцов в датафрейме.**"
   ]
  },
  {
   "cell_type": "code",
   "execution_count": 9,
   "metadata": {
    "id": "lDDesuIZbV98"
   },
   "outputs": [
    {
     "data": {
      "text/plain": [
       "(29101, 14)"
      ]
     },
     "execution_count": 9,
     "metadata": {},
     "output_type": "execute_result"
    }
   ],
   "source": [
    "taxi.shape\n",
    "\n"
   ]
  },
  {
   "cell_type": "markdown",
   "metadata": {
    "id": "02R5sO4IbV99"
   },
   "source": [
    "## Шаг 5"
   ]
  },
  {
   "cell_type": "markdown",
   "metadata": {
    "id": "hYWqHmmVbV9-"
   },
   "source": [
    "**Цель этого задания — проверить типы данных в столбцах датафрейма и определить, какой тип данных преобладает.**"
   ]
  },
  {
   "cell_type": "code",
   "execution_count": 15,
   "metadata": {
    "id": "rOQRY4HTbV9-"
   },
   "outputs": [
    {
     "data": {
      "text/plain": [
       "pickup_dt        object\n",
       "pickup_month     object\n",
       "borough          object\n",
       "pickups           int64\n",
       "hday             object\n",
       "spd             float64\n",
       "vsb             float64\n",
       "temp            float64\n",
       "dewp            float64\n",
       "slp             float64\n",
       "pcp 01          float64\n",
       "pcp 06          float64\n",
       "pcp 24          float64\n",
       "sd              float64\n",
       "dtype: object"
      ]
     },
     "execution_count": 15,
     "metadata": {},
     "output_type": "execute_result"
    }
   ],
   "source": [
    "taxi.dtypes\n"
   ]
  },
  {
   "cell_type": "markdown",
   "metadata": {
    "id": "DR1pO9YpbV-G"
   },
   "source": [
    "## Шаг 6"
   ]
  },
  {
   "cell_type": "markdown",
   "metadata": {
    "id": "w4lf3weWbV-G"
   },
   "source": [
    "В названиях трех столбцов встречается пробел: это столбцы `pcp 01`, `pcp 06` и `pcp 24`. Заменим пробел на знак нижнего подчеркивания, чтобы было удобно обращаться к этим столбцам: через точку, без использования кавычек и скобок. Результат сохраним в тот же датафрейм `taxi`."
   ]
  },
  {
   "cell_type": "code",
   "execution_count": 17,
   "metadata": {
    "id": "pf8bellFbV-G"
   },
   "outputs": [],
   "source": [
    "col_names = {'pcp 01': 'pcp_01', 'pcp 06': 'pcp_06', 'pcp 24': 'pcp_24'}\n",
    "taxi = taxi.rename(columns=col_names)\n"
   ]
  },
  {
   "cell_type": "markdown",
   "metadata": {
    "id": "BD3BAKaZbV-G"
   },
   "source": [
    "Убедимся, что названия столбцов были успешно изменены и результат сохранен в датафрейм `taxi`, выведя обновлённый список названий столбцов"
   ]
  },
  {
   "cell_type": "code",
   "execution_count": 18,
   "metadata": {
    "id": "7qvk_oFebV-H"
   },
   "outputs": [
    {
     "data": {
      "text/plain": [
       "Index(['pickup_dt', 'pickup_month', 'borough', 'pickups', 'hday', 'spd', 'vsb',\n",
       "       'temp', 'dewp', 'slp', 'pcp_01', 'pcp_06', 'pcp_24', 'sd'],\n",
       "      dtype='object')"
      ]
     },
     "execution_count": 18,
     "metadata": {},
     "output_type": "execute_result"
    }
   ],
   "source": [
    "taxi.columns\n",
    "\n"
   ]
  },
  {
   "cell_type": "markdown",
   "metadata": {
    "id": "NNeCWp3ObV-I"
   },
   "source": [
    "## Шаг 7"
   ]
  },
  {
   "cell_type": "markdown",
   "metadata": {
    "id": "FoPaE5T5bV-I"
   },
   "source": [
    "Проверим, все ли районы встречаются в данных одинаково часто. **Используя метод `value_counts()` из библиотеки pandas, определим число записей по каждому району Нью-Йорка.**"
   ]
  },
  {
   "cell_type": "code",
   "execution_count": 19,
   "metadata": {
    "id": "FDhF7MZLbV-J"
   },
   "outputs": [
    {
     "data": {
      "text/plain": [
       "Manhattan        4343\n",
       "Bronx            4343\n",
       "Staten Island    4343\n",
       "EWR              4343\n",
       "Brooklyn         4343\n",
       "Queens           4343\n",
       "Name: borough, dtype: int64"
      ]
     },
     "execution_count": 19,
     "metadata": {},
     "output_type": "execute_result"
    }
   ],
   "source": [
    "taxi.borough.value_counts()\n",
    "\n"
   ]
  },
  {
   "cell_type": "markdown",
   "metadata": {
    "id": "ZzIe5oTLbV-K"
   },
   "source": [
    "## Шаг 8"
   ]
  },
  {
   "cell_type": "markdown",
   "metadata": {
    "id": "Q2wx-OETbV-K"
   },
   "source": [
    "**В этом задании посчитаем общее количество поездок,** чтобы узнать, насколько было востребовано такси в Нью-Йорке за период наблюдений. Для этого суммируем все значения в столбце `pickups` с помощью метода [sum()](https://pandas.pydata.org/pandas-docs/stable/reference/api/pandas.Series.sum.html)"
   ]
  },
  {
   "cell_type": "code",
   "execution_count": 20,
   "metadata": {
    "id": "SfFvZhq4bV-K"
   },
   "outputs": [
    {
     "data": {
      "text/plain": [
       "14265773"
      ]
     },
     "execution_count": 20,
     "metadata": {},
     "output_type": "execute_result"
    }
   ],
   "source": [
    "taxi.pickups.sum()\n"
   ]
  },
  {
   "cell_type": "markdown",
   "metadata": {
    "id": "L-SVpfAcbV-L"
   },
   "source": [
    "## Шаг 9"
   ]
  },
  {
   "cell_type": "markdown",
   "metadata": {
    "id": "nT085-F7bV-L"
   },
   "source": [
    "**Используя возможности группировки данных в pandas, определим район Нью-Йорка, из которого было совершено наибольшее количество поездок.** Такая информация может понадобиться, чтобы принять бизнес-решение о том, в каком районе увеличить количество машин такси."
   ]
  },
  {
   "cell_type": "code",
   "execution_count": 36,
   "metadata": {
    "id": "M0V2e1ZtbV-M"
   },
   "outputs": [
    {
     "data": {
      "text/plain": [
       "borough\n",
       "Bronx              220047\n",
       "Brooklyn          2321035\n",
       "EWR                   105\n",
       "Manhattan        10367841\n",
       "Queens            1343528\n",
       "Staten Island        6957\n",
       "Name: pickups, dtype: int64"
      ]
     },
     "execution_count": 36,
     "metadata": {},
     "output_type": "execute_result"
    }
   ],
   "source": [
    "taxi.groupby('borough').pickups.sum()"
   ]
  },
  {
   "cell_type": "code",
   "execution_count": 38,
   "metadata": {
    "id": "R_z54OVMbV-M"
   },
   "outputs": [
    {
     "data": {
      "text/html": [
       "<div>\n",
       "<style scoped>\n",
       "    .dataframe tbody tr th:only-of-type {\n",
       "        vertical-align: middle;\n",
       "    }\n",
       "\n",
       "    .dataframe tbody tr th {\n",
       "        vertical-align: top;\n",
       "    }\n",
       "\n",
       "    .dataframe thead th {\n",
       "        text-align: right;\n",
       "    }\n",
       "</style>\n",
       "<table border=\"1\" class=\"dataframe\">\n",
       "  <thead>\n",
       "    <tr style=\"text-align: right;\">\n",
       "      <th></th>\n",
       "      <th>pickup_dt</th>\n",
       "      <th>pickup_month</th>\n",
       "      <th>borough</th>\n",
       "      <th>pickups</th>\n",
       "      <th>hday</th>\n",
       "      <th>spd</th>\n",
       "      <th>vsb</th>\n",
       "      <th>temp</th>\n",
       "      <th>dewp</th>\n",
       "      <th>slp</th>\n",
       "      <th>pcp_01</th>\n",
       "      <th>pcp_06</th>\n",
       "      <th>pcp_24</th>\n",
       "      <th>sd</th>\n",
       "    </tr>\n",
       "  </thead>\n",
       "  <tbody>\n",
       "    <tr>\n",
       "      <th>17076</th>\n",
       "      <td>2015-04-18 03:00:00</td>\n",
       "      <td>Apr</td>\n",
       "      <td>EWR</td>\n",
       "      <td>0</td>\n",
       "      <td>N</td>\n",
       "      <td>0.00</td>\n",
       "      <td>10.0</td>\n",
       "      <td>66.00</td>\n",
       "      <td>51.00</td>\n",
       "      <td>1014.7</td>\n",
       "      <td>0.000000</td>\n",
       "      <td>0.00</td>\n",
       "      <td>0.00</td>\n",
       "      <td>0.0</td>\n",
       "    </tr>\n",
       "    <tr>\n",
       "      <th>25194</th>\n",
       "      <td>2015-06-07 02:00:00</td>\n",
       "      <td>Jun</td>\n",
       "      <td>EWR</td>\n",
       "      <td>0</td>\n",
       "      <td>N</td>\n",
       "      <td>6.00</td>\n",
       "      <td>10.0</td>\n",
       "      <td>67.00</td>\n",
       "      <td>34.00</td>\n",
       "      <td>1017.7</td>\n",
       "      <td>0.000000</td>\n",
       "      <td>0.22</td>\n",
       "      <td>0.00</td>\n",
       "      <td>0.0</td>\n",
       "    </tr>\n",
       "    <tr>\n",
       "      <th>5765</th>\n",
       "      <td>2015-02-06 11:00:00</td>\n",
       "      <td>Feb</td>\n",
       "      <td>EWR</td>\n",
       "      <td>0</td>\n",
       "      <td>N</td>\n",
       "      <td>7.00</td>\n",
       "      <td>10.0</td>\n",
       "      <td>12.00</td>\n",
       "      <td>-3.00</td>\n",
       "      <td>1024.9</td>\n",
       "      <td>0.000000</td>\n",
       "      <td>0.00</td>\n",
       "      <td>0.00</td>\n",
       "      <td>8.0</td>\n",
       "    </tr>\n",
       "    <tr>\n",
       "      <th>19830</th>\n",
       "      <td>2015-05-05 05:00:00</td>\n",
       "      <td>May</td>\n",
       "      <td>EWR</td>\n",
       "      <td>0</td>\n",
       "      <td>N</td>\n",
       "      <td>7.00</td>\n",
       "      <td>10.0</td>\n",
       "      <td>71.00</td>\n",
       "      <td>44.00</td>\n",
       "      <td>1021.3</td>\n",
       "      <td>0.000000</td>\n",
       "      <td>0.00</td>\n",
       "      <td>0.00</td>\n",
       "      <td>0.0</td>\n",
       "    </tr>\n",
       "    <tr>\n",
       "      <th>13210</th>\n",
       "      <td>2015-03-24 21:00:00</td>\n",
       "      <td>Mar</td>\n",
       "      <td>Staten Island</td>\n",
       "      <td>0</td>\n",
       "      <td>N</td>\n",
       "      <td>0.00</td>\n",
       "      <td>10.0</td>\n",
       "      <td>44.00</td>\n",
       "      <td>10.00</td>\n",
       "      <td>1025.9</td>\n",
       "      <td>0.000000</td>\n",
       "      <td>0.00</td>\n",
       "      <td>0.00</td>\n",
       "      <td>0.0</td>\n",
       "    </tr>\n",
       "    <tr>\n",
       "      <th>...</th>\n",
       "      <td>...</td>\n",
       "      <td>...</td>\n",
       "      <td>...</td>\n",
       "      <td>...</td>\n",
       "      <td>...</td>\n",
       "      <td>...</td>\n",
       "      <td>...</td>\n",
       "      <td>...</td>\n",
       "      <td>...</td>\n",
       "      <td>...</td>\n",
       "      <td>...</td>\n",
       "      <td>...</td>\n",
       "      <td>...</td>\n",
       "      <td>...</td>\n",
       "    </tr>\n",
       "    <tr>\n",
       "      <th>21739</th>\n",
       "      <td>2015-05-16 23:00:00</td>\n",
       "      <td>May</td>\n",
       "      <td>Manhattan</td>\n",
       "      <td>7271</td>\n",
       "      <td>N</td>\n",
       "      <td>0.00</td>\n",
       "      <td>9.1</td>\n",
       "      <td>71.00</td>\n",
       "      <td>60.00</td>\n",
       "      <td>1019.2</td>\n",
       "      <td>0.000000</td>\n",
       "      <td>0.00</td>\n",
       "      <td>0.00</td>\n",
       "      <td>0.0</td>\n",
       "    </tr>\n",
       "    <tr>\n",
       "      <th>28590</th>\n",
       "      <td>2015-06-27 20:00:00</td>\n",
       "      <td>Jun</td>\n",
       "      <td>Manhattan</td>\n",
       "      <td>7512</td>\n",
       "      <td>N</td>\n",
       "      <td>9.00</td>\n",
       "      <td>8.0</td>\n",
       "      <td>65.00</td>\n",
       "      <td>55.00</td>\n",
       "      <td>1018.2</td>\n",
       "      <td>0.010000</td>\n",
       "      <td>0.00</td>\n",
       "      <td>0.25</td>\n",
       "      <td>0.0</td>\n",
       "    </tr>\n",
       "    <tr>\n",
       "      <th>28611</th>\n",
       "      <td>2015-06-27 23:00:00</td>\n",
       "      <td>Jun</td>\n",
       "      <td>Manhattan</td>\n",
       "      <td>7711</td>\n",
       "      <td>N</td>\n",
       "      <td>10.25</td>\n",
       "      <td>3.2</td>\n",
       "      <td>60.75</td>\n",
       "      <td>57.25</td>\n",
       "      <td>1015.7</td>\n",
       "      <td>0.076667</td>\n",
       "      <td>0.01</td>\n",
       "      <td>0.00</td>\n",
       "      <td>0.0</td>\n",
       "    </tr>\n",
       "    <tr>\n",
       "      <th>28597</th>\n",
       "      <td>2015-06-27 21:00:00</td>\n",
       "      <td>Jun</td>\n",
       "      <td>Manhattan</td>\n",
       "      <td>7801</td>\n",
       "      <td>N</td>\n",
       "      <td>8.00</td>\n",
       "      <td>3.5</td>\n",
       "      <td>61.50</td>\n",
       "      <td>56.00</td>\n",
       "      <td>1017.0</td>\n",
       "      <td>0.045000</td>\n",
       "      <td>0.00</td>\n",
       "      <td>0.00</td>\n",
       "      <td>0.0</td>\n",
       "    </tr>\n",
       "    <tr>\n",
       "      <th>28604</th>\n",
       "      <td>2015-06-27 22:00:00</td>\n",
       "      <td>Jun</td>\n",
       "      <td>Manhattan</td>\n",
       "      <td>7883</td>\n",
       "      <td>N</td>\n",
       "      <td>8.00</td>\n",
       "      <td>5.5</td>\n",
       "      <td>60.00</td>\n",
       "      <td>56.50</td>\n",
       "      <td>1016.9</td>\n",
       "      <td>0.065000</td>\n",
       "      <td>0.00</td>\n",
       "      <td>0.00</td>\n",
       "      <td>0.0</td>\n",
       "    </tr>\n",
       "  </tbody>\n",
       "</table>\n",
       "<p>29101 rows × 14 columns</p>\n",
       "</div>"
      ],
      "text/plain": [
       "                 pickup_dt pickup_month        borough  pickups hday    spd  \\\n",
       "17076  2015-04-18 03:00:00          Apr            EWR        0    N   0.00   \n",
       "25194  2015-06-07 02:00:00          Jun            EWR        0    N   6.00   \n",
       "5765   2015-02-06 11:00:00          Feb            EWR        0    N   7.00   \n",
       "19830  2015-05-05 05:00:00          May            EWR        0    N   7.00   \n",
       "13210  2015-03-24 21:00:00          Mar  Staten Island        0    N   0.00   \n",
       "...                    ...          ...            ...      ...  ...    ...   \n",
       "21739  2015-05-16 23:00:00          May      Manhattan     7271    N   0.00   \n",
       "28590  2015-06-27 20:00:00          Jun      Manhattan     7512    N   9.00   \n",
       "28611  2015-06-27 23:00:00          Jun      Manhattan     7711    N  10.25   \n",
       "28597  2015-06-27 21:00:00          Jun      Manhattan     7801    N   8.00   \n",
       "28604  2015-06-27 22:00:00          Jun      Manhattan     7883    N   8.00   \n",
       "\n",
       "        vsb   temp   dewp     slp    pcp_01  pcp_06  pcp_24   sd  \n",
       "17076  10.0  66.00  51.00  1014.7  0.000000    0.00    0.00  0.0  \n",
       "25194  10.0  67.00  34.00  1017.7  0.000000    0.22    0.00  0.0  \n",
       "5765   10.0  12.00  -3.00  1024.9  0.000000    0.00    0.00  8.0  \n",
       "19830  10.0  71.00  44.00  1021.3  0.000000    0.00    0.00  0.0  \n",
       "13210  10.0  44.00  10.00  1025.9  0.000000    0.00    0.00  0.0  \n",
       "...     ...    ...    ...     ...       ...     ...     ...  ...  \n",
       "21739   9.1  71.00  60.00  1019.2  0.000000    0.00    0.00  0.0  \n",
       "28590   8.0  65.00  55.00  1018.2  0.010000    0.00    0.25  0.0  \n",
       "28611   3.2  60.75  57.25  1015.7  0.076667    0.01    0.00  0.0  \n",
       "28597   3.5  61.50  56.00  1017.0  0.045000    0.00    0.00  0.0  \n",
       "28604   5.5  60.00  56.50  1016.9  0.065000    0.00    0.00  0.0  \n",
       "\n",
       "[29101 rows x 14 columns]"
      ]
     },
     "execution_count": 38,
     "metadata": {},
     "output_type": "execute_result"
    }
   ],
   "source": [
    "taxi.sort_values('pickups', ascending=True)\n",
    "\n"
   ]
  },
  {
   "cell_type": "markdown",
   "metadata": {
    "id": "8D67U9CXbV-N"
   },
   "source": [
    "## Шаг 10"
   ]
  },
  {
   "cell_type": "markdown",
   "metadata": {
    "id": "v8L-qPpjbV-N"
   },
   "source": [
    "Чтобы ускорить процесс аналитической работы, в примененим методы: `idxmin()` и `idxmax()` для определения индексов минимального и максимального значения в наборе данных.\n",
    "\n",
    "[idxmin()](https://pandas.pydata.org/pandas-docs/stable/reference/api/pandas.Series.idxmin.html) – возвращает индекс минимального значения (не само значение, а индекс строки, в которой находится это значение)  \n",
    "[idxmax()](https://pandas.pydata.org/pandas-docs/stable/reference/api/pandas.Series.idxmax.html) – возвращает индекс максимального значения\n",
    "\n",
    "Методы применяются к той колонке, по которой он определит максимальное или минимальное значение и вернет его индекс. Пример синтаксиса:\n",
    "\n",
    "```python\n",
    "df.column_name.idxmax()\n",
    "```\n",
    "\n",
    "Эти методы заменяют следующую цепочку действий: применить метод `sort_values()`, взять только первую строку, обратиться к её индексу. Обратим внимание, что оба метода помогут вернуть только одно значение индекса, даже если в данных максимальных или минимальных значений несколько.\n",
    "\n",
    "**Чтобы потренироваться использовать новые методы, сохраним название района с наименьшим числом поездок в переменную `min_pickups`, применив подходящий метод**."
   ]
  },
  {
   "cell_type": "code",
   "execution_count": 39,
   "metadata": {
    "id": "hu4Cphj-bV-O"
   },
   "outputs": [
    {
     "data": {
      "text/plain": [
       "borough\n",
       "Bronx              220047\n",
       "Brooklyn          2321035\n",
       "EWR                   105\n",
       "Manhattan        10367841\n",
       "Queens            1343528\n",
       "Staten Island        6957\n",
       "Name: pickups, dtype: int64"
      ]
     },
     "execution_count": 39,
     "metadata": {},
     "output_type": "execute_result"
    }
   ],
   "source": [
    "taxi.groupby('borough').pickups.sum()"
   ]
  },
  {
   "cell_type": "code",
   "execution_count": 41,
   "metadata": {
    "id": "QRMnR_3wbV-O"
   },
   "outputs": [
    {
     "name": "stdout",
     "output_type": "stream",
     "text": [
      "EWR\n"
     ]
    }
   ],
   "source": [
    "min_pickups = taxi.groupby('borough').pickups.sum().idxmin()\n",
    "print(min_pickups)\n"
   ]
  },
  {
   "cell_type": "markdown",
   "metadata": {
    "id": "MBrqhEAMbV-Q"
   },
   "source": [
    "## Шаг 11"
   ]
  },
  {
   "cell_type": "markdown",
   "metadata": {
    "id": "aYQFjxeMbV-Q"
   },
   "source": [
    "**Теперь наша задача определить, из каких районов по праздникам и выходным дням в среднем поступает больше заказов, чем в обычные дни.** Такие расчеты помогут компании оптимизировать предложение машин такси и понять, в каких районах в выходные дни нужно дополнительно стимулировать водителей выходить на смену, чтобы машин хватало."
   ]
  },
  {
   "cell_type": "code",
   "execution_count": 46,
   "metadata": {
    "id": "shFOqzfXbV-Q"
   },
   "outputs": [
    {
     "data": {
      "text/html": [
       "<div>\n",
       "<style scoped>\n",
       "    .dataframe tbody tr th:only-of-type {\n",
       "        vertical-align: middle;\n",
       "    }\n",
       "\n",
       "    .dataframe tbody tr th {\n",
       "        vertical-align: top;\n",
       "    }\n",
       "\n",
       "    .dataframe thead th {\n",
       "        text-align: right;\n",
       "    }\n",
       "</style>\n",
       "<table border=\"1\" class=\"dataframe\">\n",
       "  <thead>\n",
       "    <tr style=\"text-align: right;\">\n",
       "      <th></th>\n",
       "      <th>borough</th>\n",
       "      <th>hday</th>\n",
       "      <th>pickups</th>\n",
       "    </tr>\n",
       "  </thead>\n",
       "  <tbody>\n",
       "    <tr>\n",
       "      <th>0</th>\n",
       "      <td>Bronx</td>\n",
       "      <td>N</td>\n",
       "      <td>50.771073</td>\n",
       "    </tr>\n",
       "    <tr>\n",
       "      <th>1</th>\n",
       "      <td>Bronx</td>\n",
       "      <td>Y</td>\n",
       "      <td>48.065868</td>\n",
       "    </tr>\n",
       "    <tr>\n",
       "      <th>2</th>\n",
       "      <td>Brooklyn</td>\n",
       "      <td>N</td>\n",
       "      <td>534.727969</td>\n",
       "    </tr>\n",
       "    <tr>\n",
       "      <th>3</th>\n",
       "      <td>Brooklyn</td>\n",
       "      <td>Y</td>\n",
       "      <td>527.011976</td>\n",
       "    </tr>\n",
       "    <tr>\n",
       "      <th>4</th>\n",
       "      <td>EWR</td>\n",
       "      <td>N</td>\n",
       "      <td>0.023467</td>\n",
       "    </tr>\n",
       "    <tr>\n",
       "      <th>5</th>\n",
       "      <td>EWR</td>\n",
       "      <td>Y</td>\n",
       "      <td>0.041916</td>\n",
       "    </tr>\n",
       "    <tr>\n",
       "      <th>6</th>\n",
       "      <td>Manhattan</td>\n",
       "      <td>N</td>\n",
       "      <td>2401.302921</td>\n",
       "    </tr>\n",
       "    <tr>\n",
       "      <th>7</th>\n",
       "      <td>Manhattan</td>\n",
       "      <td>Y</td>\n",
       "      <td>2035.928144</td>\n",
       "    </tr>\n",
       "    <tr>\n",
       "      <th>8</th>\n",
       "      <td>Queens</td>\n",
       "      <td>N</td>\n",
       "      <td>308.899904</td>\n",
       "    </tr>\n",
       "    <tr>\n",
       "      <th>9</th>\n",
       "      <td>Queens</td>\n",
       "      <td>Y</td>\n",
       "      <td>320.730539</td>\n",
       "    </tr>\n",
       "    <tr>\n",
       "      <th>10</th>\n",
       "      <td>Staten Island</td>\n",
       "      <td>N</td>\n",
       "      <td>1.606082</td>\n",
       "    </tr>\n",
       "    <tr>\n",
       "      <th>11</th>\n",
       "      <td>Staten Island</td>\n",
       "      <td>Y</td>\n",
       "      <td>1.497006</td>\n",
       "    </tr>\n",
       "  </tbody>\n",
       "</table>\n",
       "</div>"
      ],
      "text/plain": [
       "          borough hday      pickups\n",
       "0           Bronx    N    50.771073\n",
       "1           Bronx    Y    48.065868\n",
       "2        Brooklyn    N   534.727969\n",
       "3        Brooklyn    Y   527.011976\n",
       "4             EWR    N     0.023467\n",
       "5             EWR    Y     0.041916\n",
       "6       Manhattan    N  2401.302921\n",
       "7       Manhattan    Y  2035.928144\n",
       "8          Queens    N   308.899904\n",
       "9          Queens    Y   320.730539\n",
       "10  Staten Island    N     1.606082\n",
       "11  Staten Island    Y     1.497006"
      ]
     },
     "execution_count": 46,
     "metadata": {},
     "output_type": "execute_result"
    }
   ],
   "source": [
    "taxi.groupby(['borough', 'hday'], as_index=False).pickups.mean()\n"
   ]
  },
  {
   "cell_type": "markdown",
   "metadata": {
    "id": "3E5c6n0MbV-S"
   },
   "source": [
    "## Шаг 12"
   ]
  },
  {
   "cell_type": "markdown",
   "metadata": {
    "id": "IIUsVububV-S"
   },
   "source": [
    "**Цель в этом задании — определить число поездок в каждом районе по месяцам.** Эти расчеты помогут проследить динамику числа поездок, выявить закономерности и сезонность.  \n",
    "\n",
    "**Результаты отсортируем по убыванию количества поездок и сохраним в новый датафрейм `pickups_by_mon_bor`.**\n",
    "Итоговый датафрейм должен состоять из 3-х колонок — `pickup_month`, `borough`, `pickups`."
   ]
  },
  {
   "cell_type": "code",
   "execution_count": 48,
   "metadata": {
    "id": "dHRuYJhAbV-S"
   },
   "outputs": [
    {
     "data": {
      "text/html": [
       "<div>\n",
       "<style scoped>\n",
       "    .dataframe tbody tr th:only-of-type {\n",
       "        vertical-align: middle;\n",
       "    }\n",
       "\n",
       "    .dataframe tbody tr th {\n",
       "        vertical-align: top;\n",
       "    }\n",
       "\n",
       "    .dataframe thead th {\n",
       "        text-align: right;\n",
       "    }\n",
       "</style>\n",
       "<table border=\"1\" class=\"dataframe\">\n",
       "  <thead>\n",
       "    <tr style=\"text-align: right;\">\n",
       "      <th></th>\n",
       "      <th>borough</th>\n",
       "      <th>pickup_month</th>\n",
       "      <th>pickups</th>\n",
       "    </tr>\n",
       "  </thead>\n",
       "  <tbody>\n",
       "    <tr>\n",
       "      <th>0</th>\n",
       "      <td>Bronx</td>\n",
       "      <td>Apr</td>\n",
       "      <td>34617</td>\n",
       "    </tr>\n",
       "    <tr>\n",
       "      <th>1</th>\n",
       "      <td>Bronx</td>\n",
       "      <td>Feb</td>\n",
       "      <td>28694</td>\n",
       "    </tr>\n",
       "    <tr>\n",
       "      <th>2</th>\n",
       "      <td>Bronx</td>\n",
       "      <td>Jan</td>\n",
       "      <td>22461</td>\n",
       "    </tr>\n",
       "    <tr>\n",
       "      <th>3</th>\n",
       "      <td>Bronx</td>\n",
       "      <td>Jun</td>\n",
       "      <td>49006</td>\n",
       "    </tr>\n",
       "    <tr>\n",
       "      <th>4</th>\n",
       "      <td>Bronx</td>\n",
       "      <td>Mar</td>\n",
       "      <td>32232</td>\n",
       "    </tr>\n",
       "    <tr>\n",
       "      <th>5</th>\n",
       "      <td>Bronx</td>\n",
       "      <td>May</td>\n",
       "      <td>53037</td>\n",
       "    </tr>\n",
       "    <tr>\n",
       "      <th>6</th>\n",
       "      <td>Brooklyn</td>\n",
       "      <td>Apr</td>\n",
       "      <td>378095</td>\n",
       "    </tr>\n",
       "    <tr>\n",
       "      <th>7</th>\n",
       "      <td>Brooklyn</td>\n",
       "      <td>Feb</td>\n",
       "      <td>328650</td>\n",
       "    </tr>\n",
       "    <tr>\n",
       "      <th>8</th>\n",
       "      <td>Brooklyn</td>\n",
       "      <td>Jan</td>\n",
       "      <td>309011</td>\n",
       "    </tr>\n",
       "    <tr>\n",
       "      <th>9</th>\n",
       "      <td>Brooklyn</td>\n",
       "      <td>Jun</td>\n",
       "      <td>482466</td>\n",
       "    </tr>\n",
       "    <tr>\n",
       "      <th>10</th>\n",
       "      <td>Brooklyn</td>\n",
       "      <td>Mar</td>\n",
       "      <td>346726</td>\n",
       "    </tr>\n",
       "    <tr>\n",
       "      <th>11</th>\n",
       "      <td>Brooklyn</td>\n",
       "      <td>May</td>\n",
       "      <td>476087</td>\n",
       "    </tr>\n",
       "    <tr>\n",
       "      <th>12</th>\n",
       "      <td>EWR</td>\n",
       "      <td>Apr</td>\n",
       "      <td>10</td>\n",
       "    </tr>\n",
       "    <tr>\n",
       "      <th>13</th>\n",
       "      <td>EWR</td>\n",
       "      <td>Feb</td>\n",
       "      <td>14</td>\n",
       "    </tr>\n",
       "    <tr>\n",
       "      <th>14</th>\n",
       "      <td>EWR</td>\n",
       "      <td>Jan</td>\n",
       "      <td>11</td>\n",
       "    </tr>\n",
       "    <tr>\n",
       "      <th>15</th>\n",
       "      <td>EWR</td>\n",
       "      <td>Jun</td>\n",
       "      <td>29</td>\n",
       "    </tr>\n",
       "    <tr>\n",
       "      <th>16</th>\n",
       "      <td>EWR</td>\n",
       "      <td>Mar</td>\n",
       "      <td>14</td>\n",
       "    </tr>\n",
       "    <tr>\n",
       "      <th>17</th>\n",
       "      <td>EWR</td>\n",
       "      <td>May</td>\n",
       "      <td>27</td>\n",
       "    </tr>\n",
       "    <tr>\n",
       "      <th>18</th>\n",
       "      <td>Manhattan</td>\n",
       "      <td>Apr</td>\n",
       "      <td>1648278</td>\n",
       "    </tr>\n",
       "    <tr>\n",
       "      <th>19</th>\n",
       "      <td>Manhattan</td>\n",
       "      <td>Feb</td>\n",
       "      <td>1718571</td>\n",
       "    </tr>\n",
       "    <tr>\n",
       "      <th>20</th>\n",
       "      <td>Manhattan</td>\n",
       "      <td>Jan</td>\n",
       "      <td>1455543</td>\n",
       "    </tr>\n",
       "    <tr>\n",
       "      <th>21</th>\n",
       "      <td>Manhattan</td>\n",
       "      <td>Jun</td>\n",
       "      <td>1995388</td>\n",
       "    </tr>\n",
       "    <tr>\n",
       "      <th>22</th>\n",
       "      <td>Manhattan</td>\n",
       "      <td>Mar</td>\n",
       "      <td>1661261</td>\n",
       "    </tr>\n",
       "    <tr>\n",
       "      <th>23</th>\n",
       "      <td>Manhattan</td>\n",
       "      <td>May</td>\n",
       "      <td>1888800</td>\n",
       "    </tr>\n",
       "    <tr>\n",
       "      <th>24</th>\n",
       "      <td>Queens</td>\n",
       "      <td>Apr</td>\n",
       "      <td>216857</td>\n",
       "    </tr>\n",
       "    <tr>\n",
       "      <th>25</th>\n",
       "      <td>Queens</td>\n",
       "      <td>Feb</td>\n",
       "      <td>185695</td>\n",
       "    </tr>\n",
       "    <tr>\n",
       "      <th>26</th>\n",
       "      <td>Queens</td>\n",
       "      <td>Jan</td>\n",
       "      <td>159211</td>\n",
       "    </tr>\n",
       "    <tr>\n",
       "      <th>27</th>\n",
       "      <td>Queens</td>\n",
       "      <td>Jun</td>\n",
       "      <td>286311</td>\n",
       "    </tr>\n",
       "    <tr>\n",
       "      <th>28</th>\n",
       "      <td>Queens</td>\n",
       "      <td>Mar</td>\n",
       "      <td>219561</td>\n",
       "    </tr>\n",
       "    <tr>\n",
       "      <th>29</th>\n",
       "      <td>Queens</td>\n",
       "      <td>May</td>\n",
       "      <td>275893</td>\n",
       "    </tr>\n",
       "    <tr>\n",
       "      <th>30</th>\n",
       "      <td>Staten Island</td>\n",
       "      <td>Apr</td>\n",
       "      <td>1068</td>\n",
       "    </tr>\n",
       "    <tr>\n",
       "      <th>31</th>\n",
       "      <td>Staten Island</td>\n",
       "      <td>Feb</td>\n",
       "      <td>903</td>\n",
       "    </tr>\n",
       "    <tr>\n",
       "      <th>32</th>\n",
       "      <td>Staten Island</td>\n",
       "      <td>Jan</td>\n",
       "      <td>821</td>\n",
       "    </tr>\n",
       "    <tr>\n",
       "      <th>33</th>\n",
       "      <td>Staten Island</td>\n",
       "      <td>Jun</td>\n",
       "      <td>1673</td>\n",
       "    </tr>\n",
       "    <tr>\n",
       "      <th>34</th>\n",
       "      <td>Staten Island</td>\n",
       "      <td>Mar</td>\n",
       "      <td>975</td>\n",
       "    </tr>\n",
       "    <tr>\n",
       "      <th>35</th>\n",
       "      <td>Staten Island</td>\n",
       "      <td>May</td>\n",
       "      <td>1517</td>\n",
       "    </tr>\n",
       "  </tbody>\n",
       "</table>\n",
       "</div>"
      ],
      "text/plain": [
       "          borough pickup_month  pickups\n",
       "0           Bronx          Apr    34617\n",
       "1           Bronx          Feb    28694\n",
       "2           Bronx          Jan    22461\n",
       "3           Bronx          Jun    49006\n",
       "4           Bronx          Mar    32232\n",
       "5           Bronx          May    53037\n",
       "6        Brooklyn          Apr   378095\n",
       "7        Brooklyn          Feb   328650\n",
       "8        Brooklyn          Jan   309011\n",
       "9        Brooklyn          Jun   482466\n",
       "10       Brooklyn          Mar   346726\n",
       "11       Brooklyn          May   476087\n",
       "12            EWR          Apr       10\n",
       "13            EWR          Feb       14\n",
       "14            EWR          Jan       11\n",
       "15            EWR          Jun       29\n",
       "16            EWR          Mar       14\n",
       "17            EWR          May       27\n",
       "18      Manhattan          Apr  1648278\n",
       "19      Manhattan          Feb  1718571\n",
       "20      Manhattan          Jan  1455543\n",
       "21      Manhattan          Jun  1995388\n",
       "22      Manhattan          Mar  1661261\n",
       "23      Manhattan          May  1888800\n",
       "24         Queens          Apr   216857\n",
       "25         Queens          Feb   185695\n",
       "26         Queens          Jan   159211\n",
       "27         Queens          Jun   286311\n",
       "28         Queens          Mar   219561\n",
       "29         Queens          May   275893\n",
       "30  Staten Island          Apr     1068\n",
       "31  Staten Island          Feb      903\n",
       "32  Staten Island          Jan      821\n",
       "33  Staten Island          Jun     1673\n",
       "34  Staten Island          Mar      975\n",
       "35  Staten Island          May     1517"
      ]
     },
     "execution_count": 48,
     "metadata": {},
     "output_type": "execute_result"
    }
   ],
   "source": [
    "taxi.groupby(['borough', 'pickup_month'], as_index=False).pickups.sum()\n",
    "\n"
   ]
  },
  {
   "cell_type": "markdown",
   "metadata": {
    "id": "FGYRv6i1bV-T"
   },
   "source": [
    "Отсортируем результаты по убыванию количества поездок, чтобы определить наиболее активные месяцы для каждого района"
   ]
  },
  {
   "cell_type": "code",
   "execution_count": 49,
   "metadata": {
    "id": "96qzinoLbV-T"
   },
   "outputs": [
    {
     "data": {
      "text/html": [
       "<div>\n",
       "<style scoped>\n",
       "    .dataframe tbody tr th:only-of-type {\n",
       "        vertical-align: middle;\n",
       "    }\n",
       "\n",
       "    .dataframe tbody tr th {\n",
       "        vertical-align: top;\n",
       "    }\n",
       "\n",
       "    .dataframe thead th {\n",
       "        text-align: right;\n",
       "    }\n",
       "</style>\n",
       "<table border=\"1\" class=\"dataframe\">\n",
       "  <thead>\n",
       "    <tr style=\"text-align: right;\">\n",
       "      <th></th>\n",
       "      <th>borough</th>\n",
       "      <th>pickup_month</th>\n",
       "      <th>pickups</th>\n",
       "    </tr>\n",
       "  </thead>\n",
       "  <tbody>\n",
       "    <tr>\n",
       "      <th>21</th>\n",
       "      <td>Manhattan</td>\n",
       "      <td>Jun</td>\n",
       "      <td>1995388</td>\n",
       "    </tr>\n",
       "    <tr>\n",
       "      <th>23</th>\n",
       "      <td>Manhattan</td>\n",
       "      <td>May</td>\n",
       "      <td>1888800</td>\n",
       "    </tr>\n",
       "    <tr>\n",
       "      <th>19</th>\n",
       "      <td>Manhattan</td>\n",
       "      <td>Feb</td>\n",
       "      <td>1718571</td>\n",
       "    </tr>\n",
       "    <tr>\n",
       "      <th>22</th>\n",
       "      <td>Manhattan</td>\n",
       "      <td>Mar</td>\n",
       "      <td>1661261</td>\n",
       "    </tr>\n",
       "    <tr>\n",
       "      <th>18</th>\n",
       "      <td>Manhattan</td>\n",
       "      <td>Apr</td>\n",
       "      <td>1648278</td>\n",
       "    </tr>\n",
       "    <tr>\n",
       "      <th>20</th>\n",
       "      <td>Manhattan</td>\n",
       "      <td>Jan</td>\n",
       "      <td>1455543</td>\n",
       "    </tr>\n",
       "    <tr>\n",
       "      <th>9</th>\n",
       "      <td>Brooklyn</td>\n",
       "      <td>Jun</td>\n",
       "      <td>482466</td>\n",
       "    </tr>\n",
       "    <tr>\n",
       "      <th>11</th>\n",
       "      <td>Brooklyn</td>\n",
       "      <td>May</td>\n",
       "      <td>476087</td>\n",
       "    </tr>\n",
       "    <tr>\n",
       "      <th>6</th>\n",
       "      <td>Brooklyn</td>\n",
       "      <td>Apr</td>\n",
       "      <td>378095</td>\n",
       "    </tr>\n",
       "    <tr>\n",
       "      <th>10</th>\n",
       "      <td>Brooklyn</td>\n",
       "      <td>Mar</td>\n",
       "      <td>346726</td>\n",
       "    </tr>\n",
       "    <tr>\n",
       "      <th>7</th>\n",
       "      <td>Brooklyn</td>\n",
       "      <td>Feb</td>\n",
       "      <td>328650</td>\n",
       "    </tr>\n",
       "    <tr>\n",
       "      <th>8</th>\n",
       "      <td>Brooklyn</td>\n",
       "      <td>Jan</td>\n",
       "      <td>309011</td>\n",
       "    </tr>\n",
       "    <tr>\n",
       "      <th>27</th>\n",
       "      <td>Queens</td>\n",
       "      <td>Jun</td>\n",
       "      <td>286311</td>\n",
       "    </tr>\n",
       "    <tr>\n",
       "      <th>29</th>\n",
       "      <td>Queens</td>\n",
       "      <td>May</td>\n",
       "      <td>275893</td>\n",
       "    </tr>\n",
       "    <tr>\n",
       "      <th>28</th>\n",
       "      <td>Queens</td>\n",
       "      <td>Mar</td>\n",
       "      <td>219561</td>\n",
       "    </tr>\n",
       "    <tr>\n",
       "      <th>24</th>\n",
       "      <td>Queens</td>\n",
       "      <td>Apr</td>\n",
       "      <td>216857</td>\n",
       "    </tr>\n",
       "    <tr>\n",
       "      <th>25</th>\n",
       "      <td>Queens</td>\n",
       "      <td>Feb</td>\n",
       "      <td>185695</td>\n",
       "    </tr>\n",
       "    <tr>\n",
       "      <th>26</th>\n",
       "      <td>Queens</td>\n",
       "      <td>Jan</td>\n",
       "      <td>159211</td>\n",
       "    </tr>\n",
       "    <tr>\n",
       "      <th>5</th>\n",
       "      <td>Bronx</td>\n",
       "      <td>May</td>\n",
       "      <td>53037</td>\n",
       "    </tr>\n",
       "    <tr>\n",
       "      <th>3</th>\n",
       "      <td>Bronx</td>\n",
       "      <td>Jun</td>\n",
       "      <td>49006</td>\n",
       "    </tr>\n",
       "    <tr>\n",
       "      <th>0</th>\n",
       "      <td>Bronx</td>\n",
       "      <td>Apr</td>\n",
       "      <td>34617</td>\n",
       "    </tr>\n",
       "    <tr>\n",
       "      <th>4</th>\n",
       "      <td>Bronx</td>\n",
       "      <td>Mar</td>\n",
       "      <td>32232</td>\n",
       "    </tr>\n",
       "    <tr>\n",
       "      <th>1</th>\n",
       "      <td>Bronx</td>\n",
       "      <td>Feb</td>\n",
       "      <td>28694</td>\n",
       "    </tr>\n",
       "    <tr>\n",
       "      <th>2</th>\n",
       "      <td>Bronx</td>\n",
       "      <td>Jan</td>\n",
       "      <td>22461</td>\n",
       "    </tr>\n",
       "    <tr>\n",
       "      <th>33</th>\n",
       "      <td>Staten Island</td>\n",
       "      <td>Jun</td>\n",
       "      <td>1673</td>\n",
       "    </tr>\n",
       "    <tr>\n",
       "      <th>35</th>\n",
       "      <td>Staten Island</td>\n",
       "      <td>May</td>\n",
       "      <td>1517</td>\n",
       "    </tr>\n",
       "    <tr>\n",
       "      <th>30</th>\n",
       "      <td>Staten Island</td>\n",
       "      <td>Apr</td>\n",
       "      <td>1068</td>\n",
       "    </tr>\n",
       "    <tr>\n",
       "      <th>34</th>\n",
       "      <td>Staten Island</td>\n",
       "      <td>Mar</td>\n",
       "      <td>975</td>\n",
       "    </tr>\n",
       "    <tr>\n",
       "      <th>31</th>\n",
       "      <td>Staten Island</td>\n",
       "      <td>Feb</td>\n",
       "      <td>903</td>\n",
       "    </tr>\n",
       "    <tr>\n",
       "      <th>32</th>\n",
       "      <td>Staten Island</td>\n",
       "      <td>Jan</td>\n",
       "      <td>821</td>\n",
       "    </tr>\n",
       "    <tr>\n",
       "      <th>15</th>\n",
       "      <td>EWR</td>\n",
       "      <td>Jun</td>\n",
       "      <td>29</td>\n",
       "    </tr>\n",
       "    <tr>\n",
       "      <th>17</th>\n",
       "      <td>EWR</td>\n",
       "      <td>May</td>\n",
       "      <td>27</td>\n",
       "    </tr>\n",
       "    <tr>\n",
       "      <th>16</th>\n",
       "      <td>EWR</td>\n",
       "      <td>Mar</td>\n",
       "      <td>14</td>\n",
       "    </tr>\n",
       "    <tr>\n",
       "      <th>13</th>\n",
       "      <td>EWR</td>\n",
       "      <td>Feb</td>\n",
       "      <td>14</td>\n",
       "    </tr>\n",
       "    <tr>\n",
       "      <th>14</th>\n",
       "      <td>EWR</td>\n",
       "      <td>Jan</td>\n",
       "      <td>11</td>\n",
       "    </tr>\n",
       "    <tr>\n",
       "      <th>12</th>\n",
       "      <td>EWR</td>\n",
       "      <td>Apr</td>\n",
       "      <td>10</td>\n",
       "    </tr>\n",
       "  </tbody>\n",
       "</table>\n",
       "</div>"
      ],
      "text/plain": [
       "          borough pickup_month  pickups\n",
       "21      Manhattan          Jun  1995388\n",
       "23      Manhattan          May  1888800\n",
       "19      Manhattan          Feb  1718571\n",
       "22      Manhattan          Mar  1661261\n",
       "18      Manhattan          Apr  1648278\n",
       "20      Manhattan          Jan  1455543\n",
       "9        Brooklyn          Jun   482466\n",
       "11       Brooklyn          May   476087\n",
       "6        Brooklyn          Apr   378095\n",
       "10       Brooklyn          Mar   346726\n",
       "7        Brooklyn          Feb   328650\n",
       "8        Brooklyn          Jan   309011\n",
       "27         Queens          Jun   286311\n",
       "29         Queens          May   275893\n",
       "28         Queens          Mar   219561\n",
       "24         Queens          Apr   216857\n",
       "25         Queens          Feb   185695\n",
       "26         Queens          Jan   159211\n",
       "5           Bronx          May    53037\n",
       "3           Bronx          Jun    49006\n",
       "0           Bronx          Apr    34617\n",
       "4           Bronx          Mar    32232\n",
       "1           Bronx          Feb    28694\n",
       "2           Bronx          Jan    22461\n",
       "33  Staten Island          Jun     1673\n",
       "35  Staten Island          May     1517\n",
       "30  Staten Island          Apr     1068\n",
       "34  Staten Island          Mar      975\n",
       "31  Staten Island          Feb      903\n",
       "32  Staten Island          Jan      821\n",
       "15            EWR          Jun       29\n",
       "17            EWR          May       27\n",
       "16            EWR          Mar       14\n",
       "13            EWR          Feb       14\n",
       "14            EWR          Jan       11\n",
       "12            EWR          Apr       10"
      ]
     },
     "execution_count": 49,
     "metadata": {},
     "output_type": "execute_result"
    }
   ],
   "source": [
    "taxi.groupby(['borough', 'pickup_month'], as_index=False).pickups.sum().sort_values('pickups', ascending=False)\n",
    "\n"
   ]
  },
  {
   "cell_type": "markdown",
   "metadata": {
    "id": "E5WhckaNbV-T"
   },
   "source": [
    "Сохраним результат в новый датафрейм `pickups_by_mon_bor`. Проверим, что он состоит из 3-х колонок - `pickup_month`, `borough`, `pickups`"
   ]
  },
  {
   "cell_type": "code",
   "execution_count": 55,
   "metadata": {
    "id": "52z31MTtbV-U"
   },
   "outputs": [
    {
     "data": {
      "text/html": [
       "<div>\n",
       "<style scoped>\n",
       "    .dataframe tbody tr th:only-of-type {\n",
       "        vertical-align: middle;\n",
       "    }\n",
       "\n",
       "    .dataframe tbody tr th {\n",
       "        vertical-align: top;\n",
       "    }\n",
       "\n",
       "    .dataframe thead th {\n",
       "        text-align: right;\n",
       "    }\n",
       "</style>\n",
       "<table border=\"1\" class=\"dataframe\">\n",
       "  <thead>\n",
       "    <tr style=\"text-align: right;\">\n",
       "      <th></th>\n",
       "      <th>borough</th>\n",
       "      <th>pickup_month</th>\n",
       "      <th>pickups</th>\n",
       "    </tr>\n",
       "  </thead>\n",
       "  <tbody>\n",
       "    <tr>\n",
       "      <th>21</th>\n",
       "      <td>Manhattan</td>\n",
       "      <td>Jun</td>\n",
       "      <td>1995388</td>\n",
       "    </tr>\n",
       "    <tr>\n",
       "      <th>23</th>\n",
       "      <td>Manhattan</td>\n",
       "      <td>May</td>\n",
       "      <td>1888800</td>\n",
       "    </tr>\n",
       "    <tr>\n",
       "      <th>19</th>\n",
       "      <td>Manhattan</td>\n",
       "      <td>Feb</td>\n",
       "      <td>1718571</td>\n",
       "    </tr>\n",
       "    <tr>\n",
       "      <th>22</th>\n",
       "      <td>Manhattan</td>\n",
       "      <td>Mar</td>\n",
       "      <td>1661261</td>\n",
       "    </tr>\n",
       "    <tr>\n",
       "      <th>18</th>\n",
       "      <td>Manhattan</td>\n",
       "      <td>Apr</td>\n",
       "      <td>1648278</td>\n",
       "    </tr>\n",
       "    <tr>\n",
       "      <th>20</th>\n",
       "      <td>Manhattan</td>\n",
       "      <td>Jan</td>\n",
       "      <td>1455543</td>\n",
       "    </tr>\n",
       "    <tr>\n",
       "      <th>9</th>\n",
       "      <td>Brooklyn</td>\n",
       "      <td>Jun</td>\n",
       "      <td>482466</td>\n",
       "    </tr>\n",
       "    <tr>\n",
       "      <th>11</th>\n",
       "      <td>Brooklyn</td>\n",
       "      <td>May</td>\n",
       "      <td>476087</td>\n",
       "    </tr>\n",
       "    <tr>\n",
       "      <th>6</th>\n",
       "      <td>Brooklyn</td>\n",
       "      <td>Apr</td>\n",
       "      <td>378095</td>\n",
       "    </tr>\n",
       "    <tr>\n",
       "      <th>10</th>\n",
       "      <td>Brooklyn</td>\n",
       "      <td>Mar</td>\n",
       "      <td>346726</td>\n",
       "    </tr>\n",
       "    <tr>\n",
       "      <th>7</th>\n",
       "      <td>Brooklyn</td>\n",
       "      <td>Feb</td>\n",
       "      <td>328650</td>\n",
       "    </tr>\n",
       "    <tr>\n",
       "      <th>8</th>\n",
       "      <td>Brooklyn</td>\n",
       "      <td>Jan</td>\n",
       "      <td>309011</td>\n",
       "    </tr>\n",
       "    <tr>\n",
       "      <th>27</th>\n",
       "      <td>Queens</td>\n",
       "      <td>Jun</td>\n",
       "      <td>286311</td>\n",
       "    </tr>\n",
       "    <tr>\n",
       "      <th>29</th>\n",
       "      <td>Queens</td>\n",
       "      <td>May</td>\n",
       "      <td>275893</td>\n",
       "    </tr>\n",
       "    <tr>\n",
       "      <th>28</th>\n",
       "      <td>Queens</td>\n",
       "      <td>Mar</td>\n",
       "      <td>219561</td>\n",
       "    </tr>\n",
       "    <tr>\n",
       "      <th>24</th>\n",
       "      <td>Queens</td>\n",
       "      <td>Apr</td>\n",
       "      <td>216857</td>\n",
       "    </tr>\n",
       "    <tr>\n",
       "      <th>25</th>\n",
       "      <td>Queens</td>\n",
       "      <td>Feb</td>\n",
       "      <td>185695</td>\n",
       "    </tr>\n",
       "    <tr>\n",
       "      <th>26</th>\n",
       "      <td>Queens</td>\n",
       "      <td>Jan</td>\n",
       "      <td>159211</td>\n",
       "    </tr>\n",
       "    <tr>\n",
       "      <th>5</th>\n",
       "      <td>Bronx</td>\n",
       "      <td>May</td>\n",
       "      <td>53037</td>\n",
       "    </tr>\n",
       "    <tr>\n",
       "      <th>3</th>\n",
       "      <td>Bronx</td>\n",
       "      <td>Jun</td>\n",
       "      <td>49006</td>\n",
       "    </tr>\n",
       "    <tr>\n",
       "      <th>0</th>\n",
       "      <td>Bronx</td>\n",
       "      <td>Apr</td>\n",
       "      <td>34617</td>\n",
       "    </tr>\n",
       "    <tr>\n",
       "      <th>4</th>\n",
       "      <td>Bronx</td>\n",
       "      <td>Mar</td>\n",
       "      <td>32232</td>\n",
       "    </tr>\n",
       "    <tr>\n",
       "      <th>1</th>\n",
       "      <td>Bronx</td>\n",
       "      <td>Feb</td>\n",
       "      <td>28694</td>\n",
       "    </tr>\n",
       "    <tr>\n",
       "      <th>2</th>\n",
       "      <td>Bronx</td>\n",
       "      <td>Jan</td>\n",
       "      <td>22461</td>\n",
       "    </tr>\n",
       "    <tr>\n",
       "      <th>33</th>\n",
       "      <td>Staten Island</td>\n",
       "      <td>Jun</td>\n",
       "      <td>1673</td>\n",
       "    </tr>\n",
       "    <tr>\n",
       "      <th>35</th>\n",
       "      <td>Staten Island</td>\n",
       "      <td>May</td>\n",
       "      <td>1517</td>\n",
       "    </tr>\n",
       "    <tr>\n",
       "      <th>30</th>\n",
       "      <td>Staten Island</td>\n",
       "      <td>Apr</td>\n",
       "      <td>1068</td>\n",
       "    </tr>\n",
       "    <tr>\n",
       "      <th>34</th>\n",
       "      <td>Staten Island</td>\n",
       "      <td>Mar</td>\n",
       "      <td>975</td>\n",
       "    </tr>\n",
       "    <tr>\n",
       "      <th>31</th>\n",
       "      <td>Staten Island</td>\n",
       "      <td>Feb</td>\n",
       "      <td>903</td>\n",
       "    </tr>\n",
       "    <tr>\n",
       "      <th>32</th>\n",
       "      <td>Staten Island</td>\n",
       "      <td>Jan</td>\n",
       "      <td>821</td>\n",
       "    </tr>\n",
       "    <tr>\n",
       "      <th>15</th>\n",
       "      <td>EWR</td>\n",
       "      <td>Jun</td>\n",
       "      <td>29</td>\n",
       "    </tr>\n",
       "    <tr>\n",
       "      <th>17</th>\n",
       "      <td>EWR</td>\n",
       "      <td>May</td>\n",
       "      <td>27</td>\n",
       "    </tr>\n",
       "    <tr>\n",
       "      <th>16</th>\n",
       "      <td>EWR</td>\n",
       "      <td>Mar</td>\n",
       "      <td>14</td>\n",
       "    </tr>\n",
       "    <tr>\n",
       "      <th>13</th>\n",
       "      <td>EWR</td>\n",
       "      <td>Feb</td>\n",
       "      <td>14</td>\n",
       "    </tr>\n",
       "    <tr>\n",
       "      <th>14</th>\n",
       "      <td>EWR</td>\n",
       "      <td>Jan</td>\n",
       "      <td>11</td>\n",
       "    </tr>\n",
       "    <tr>\n",
       "      <th>12</th>\n",
       "      <td>EWR</td>\n",
       "      <td>Apr</td>\n",
       "      <td>10</td>\n",
       "    </tr>\n",
       "  </tbody>\n",
       "</table>\n",
       "</div>"
      ],
      "text/plain": [
       "          borough pickup_month  pickups\n",
       "21      Manhattan          Jun  1995388\n",
       "23      Manhattan          May  1888800\n",
       "19      Manhattan          Feb  1718571\n",
       "22      Manhattan          Mar  1661261\n",
       "18      Manhattan          Apr  1648278\n",
       "20      Manhattan          Jan  1455543\n",
       "9        Brooklyn          Jun   482466\n",
       "11       Brooklyn          May   476087\n",
       "6        Brooklyn          Apr   378095\n",
       "10       Brooklyn          Mar   346726\n",
       "7        Brooklyn          Feb   328650\n",
       "8        Brooklyn          Jan   309011\n",
       "27         Queens          Jun   286311\n",
       "29         Queens          May   275893\n",
       "28         Queens          Mar   219561\n",
       "24         Queens          Apr   216857\n",
       "25         Queens          Feb   185695\n",
       "26         Queens          Jan   159211\n",
       "5           Bronx          May    53037\n",
       "3           Bronx          Jun    49006\n",
       "0           Bronx          Apr    34617\n",
       "4           Bronx          Mar    32232\n",
       "1           Bronx          Feb    28694\n",
       "2           Bronx          Jan    22461\n",
       "33  Staten Island          Jun     1673\n",
       "35  Staten Island          May     1517\n",
       "30  Staten Island          Apr     1068\n",
       "34  Staten Island          Mar      975\n",
       "31  Staten Island          Feb      903\n",
       "32  Staten Island          Jan      821\n",
       "15            EWR          Jun       29\n",
       "17            EWR          May       27\n",
       "16            EWR          Mar       14\n",
       "13            EWR          Feb       14\n",
       "14            EWR          Jan       11\n",
       "12            EWR          Apr       10"
      ]
     },
     "execution_count": 55,
     "metadata": {},
     "output_type": "execute_result"
    }
   ],
   "source": [
    "pickups_by_mon_bor = taxi.groupby(['borough', 'pickup_month'], as_index=False).pickups.sum().sort_values('pickups', ascending=False)\n",
    "\n",
    "# pickups_by_mon_bor.columns\n",
    "pickups_by_mon_bor"
   ]
  },
  {
   "cell_type": "markdown",
   "metadata": {
    "id": "WbnfXXHUbV-V"
   },
   "source": [
    "## Итоги"
   ]
  },
  {
   "cell_type": "markdown",
   "metadata": {
    "id": "re17J6hLbV-V"
   },
   "source": [
    "В этом проекте были проанализированны данные о поездках на такси в Нью-Йорке, получены инсайты для бизнес-решений и усвоены следующие навыки работы с библиотекой pandas:\n",
    "\n",
    "- Чтение данных в формате csv\n",
    "- Определение размера датафрейма и типов данных в его столбцах\n",
    "- Переименование колонок\n",
    "- Группировка и агрегация данных\n",
    "- Сортировка данных\n",
    "- Получение индексов с минимальными и максимальными значениями\n",
    "- Группировка по нескольким колонкам\n",
    "- Сохранение результата в новый датафрейм"
   ]
  },
  {
   "cell_type": "code",
   "execution_count": null,
   "metadata": {},
   "outputs": [],
   "source": []
  }
 ],
 "metadata": {
  "colab": {
   "provenance": []
  },
  "kernelspec": {
   "display_name": "Python 3",
   "language": "python",
   "name": "python3"
  },
  "language_info": {
   "codemirror_mode": {
    "name": "ipython",
    "version": 3
   },
   "file_extension": ".py",
   "mimetype": "text/x-python",
   "name": "python",
   "nbconvert_exporter": "python",
   "pygments_lexer": "ipython3",
   "version": "3.7.3"
  }
 },
 "nbformat": 4,
 "nbformat_minor": 1
}
